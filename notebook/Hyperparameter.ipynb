{
 "cells": [
  {
   "cell_type": "code",
   "execution_count": 1,
   "id": "ab3c2d93",
   "metadata": {},
   "outputs": [],
   "source": [
    "import numpy as np\n",
    "import pandas as pd\n",
    "import category_encoders as ce\n",
    "import sys, os\n",
    "import warnings\n",
    "import matplotlib.pyplot as plt\n",
    "import seaborn as sns\n",
    "import plotly.express as px\n",
    "import caret\n",
    "from mpl_toolkits.mplot3d import Axes3D\n",
    "from sklearn import svm, preprocessing, datasets\n",
    "from sklearn.model_selection import train_test_split\n",
    "from sklearn.linear_model import LinearRegression\n",
    "from sklearn.metrics import mean_squared_error, r2_score\n",
    "from sklearn.ensemble import RandomForestRegressor\n",
    "from sklearn.ensemble import RandomForestClassifier\n",
    "from sklearn.metrics import accuracy_score\n",
    "from sklearn.svm import SVC\n",
    "from sklearn.linear_model import LogisticRegression\n",
    "from sklearn.model_selection import cross_val_score\n"
   ]
  },
  {
   "cell_type": "code",
   "execution_count": 2,
   "id": "c9415f5a",
   "metadata": {},
   "outputs": [],
   "source": [
    "sys.path.append(os.path.abspath(os.path.join('../scripts')))\n"
   ]
  },
  {
   "cell_type": "code",
   "execution_count": 3,
   "id": "e0835272",
   "metadata": {},
   "outputs": [],
   "source": [
    "warnings.filterwarnings('ignore')\n",
    "pd.set_option('display.max_columns', 50)"
   ]
  },
  {
   "cell_type": "markdown",
   "id": "f5def4d2",
   "metadata": {},
   "source": [
    "# Reading Data"
   ]
  },
  {
   "cell_type": "code",
   "execution_count": 5,
   "id": "7a3240fc",
   "metadata": {
    "scrolled": true
   },
   "outputs": [
    {
     "data": {
      "text/html": [
       "<div>\n",
       "<style scoped>\n",
       "    .dataframe tbody tr th:only-of-type {\n",
       "        vertical-align: middle;\n",
       "    }\n",
       "\n",
       "    .dataframe tbody tr th {\n",
       "        vertical-align: top;\n",
       "    }\n",
       "\n",
       "    .dataframe thead th {\n",
       "        text-align: right;\n",
       "    }\n",
       "</style>\n",
       "<table border=\"1\" class=\"dataframe\">\n",
       "  <thead>\n",
       "    <tr style=\"text-align: right;\">\n",
       "      <th></th>\n",
       "      <th>TransactionId</th>\n",
       "      <th>BatchId</th>\n",
       "      <th>AccountId</th>\n",
       "      <th>SubscriptionId</th>\n",
       "      <th>CustomerId</th>\n",
       "      <th>ProviderId</th>\n",
       "      <th>ProductId</th>\n",
       "      <th>ProductCategory</th>\n",
       "      <th>ChannelId</th>\n",
       "      <th>Amount</th>\n",
       "      <th>Value</th>\n",
       "      <th>PricingStrategy</th>\n",
       "      <th>FraudResult</th>\n",
       "      <th>TransactionYear</th>\n",
       "      <th>TransactionMonth</th>\n",
       "      <th>TransactionDay</th>\n",
       "      <th>TransactionHour</th>\n",
       "    </tr>\n",
       "  </thead>\n",
       "  <tbody>\n",
       "    <tr>\n",
       "      <th>0</th>\n",
       "      <td>1.097926</td>\n",
       "      <td>-0.015563</td>\n",
       "      <td>0.153713</td>\n",
       "      <td>1.668646</td>\n",
       "      <td>0.595070</td>\n",
       "      <td>1.025848</td>\n",
       "      <td>0.554336</td>\n",
       "      <td>-0.799047</td>\n",
       "      <td>0.676000</td>\n",
       "      <td>-0.046371</td>\n",
       "      <td>-0.072291</td>\n",
       "      <td>-0.349252</td>\n",
       "      <td>-0.044962</td>\n",
       "      <td>-0.994246</td>\n",
       "      <td>0.848684</td>\n",
       "      <td>-0.100739</td>\n",
       "      <td>-2.155530</td>\n",
       "    </tr>\n",
       "    <tr>\n",
       "      <th>1</th>\n",
       "      <td>1.013589</td>\n",
       "      <td>-0.571733</td>\n",
       "      <td>0.867190</td>\n",
       "      <td>0.346449</td>\n",
       "      <td>0.595070</td>\n",
       "      <td>-0.502027</td>\n",
       "      <td>-0.304790</td>\n",
       "      <td>0.491064</td>\n",
       "      <td>-1.114302</td>\n",
       "      <td>-0.054643</td>\n",
       "      <td>-0.080251</td>\n",
       "      <td>-0.349252</td>\n",
       "      <td>-0.044962</td>\n",
       "      <td>-0.994246</td>\n",
       "      <td>0.848684</td>\n",
       "      <td>-0.100739</td>\n",
       "      <td>-2.155530</td>\n",
       "    </tr>\n",
       "    <tr>\n",
       "      <th>2</th>\n",
       "      <td>-0.287613</td>\n",
       "      <td>0.469994</td>\n",
       "      <td>0.371965</td>\n",
       "      <td>-1.203089</td>\n",
       "      <td>0.807169</td>\n",
       "      <td>1.025848</td>\n",
       "      <td>-1.378697</td>\n",
       "      <td>-0.799047</td>\n",
       "      <td>0.676000</td>\n",
       "      <td>-0.050426</td>\n",
       "      <td>-0.076352</td>\n",
       "      <td>-0.349252</td>\n",
       "      <td>-0.044962</td>\n",
       "      <td>-0.994246</td>\n",
       "      <td>0.848684</td>\n",
       "      <td>-0.100739</td>\n",
       "      <td>-2.155530</td>\n",
       "    </tr>\n",
       "    <tr>\n",
       "      <th>3</th>\n",
       "      <td>0.032862</td>\n",
       "      <td>-1.666100</td>\n",
       "      <td>0.996380</td>\n",
       "      <td>-1.227972</td>\n",
       "      <td>1.692827</td>\n",
       "      <td>-2.793841</td>\n",
       "      <td>2.916933</td>\n",
       "      <td>4.361398</td>\n",
       "      <td>0.676000</td>\n",
       "      <td>0.107717</td>\n",
       "      <td>0.096648</td>\n",
       "      <td>-0.349252</td>\n",
       "      <td>-0.044962</td>\n",
       "      <td>-0.994246</td>\n",
       "      <td>0.848684</td>\n",
       "      <td>-0.100739</td>\n",
       "      <td>-1.949214</td>\n",
       "    </tr>\n",
       "    <tr>\n",
       "      <th>4</th>\n",
       "      <td>-0.234164</td>\n",
       "      <td>0.056072</td>\n",
       "      <td>0.867190</td>\n",
       "      <td>0.346449</td>\n",
       "      <td>1.692827</td>\n",
       "      <td>-0.502027</td>\n",
       "      <td>-0.304790</td>\n",
       "      <td>0.491064</td>\n",
       "      <td>-1.114302</td>\n",
       "      <td>-0.059704</td>\n",
       "      <td>-0.075183</td>\n",
       "      <td>-0.349252</td>\n",
       "      <td>-0.044962</td>\n",
       "      <td>-0.994246</td>\n",
       "      <td>0.848684</td>\n",
       "      <td>-0.100739</td>\n",
       "      <td>-1.949214</td>\n",
       "    </tr>\n",
       "  </tbody>\n",
       "</table>\n",
       "</div>"
      ],
      "text/plain": [
       "   TransactionId   BatchId  AccountId  SubscriptionId  CustomerId  ProviderId  \\\n",
       "0       1.097926 -0.015563   0.153713        1.668646    0.595070    1.025848   \n",
       "1       1.013589 -0.571733   0.867190        0.346449    0.595070   -0.502027   \n",
       "2      -0.287613  0.469994   0.371965       -1.203089    0.807169    1.025848   \n",
       "3       0.032862 -1.666100   0.996380       -1.227972    1.692827   -2.793841   \n",
       "4      -0.234164  0.056072   0.867190        0.346449    1.692827   -0.502027   \n",
       "\n",
       "   ProductId  ProductCategory  ChannelId    Amount     Value  PricingStrategy  \\\n",
       "0   0.554336        -0.799047   0.676000 -0.046371 -0.072291        -0.349252   \n",
       "1  -0.304790         0.491064  -1.114302 -0.054643 -0.080251        -0.349252   \n",
       "2  -1.378697        -0.799047   0.676000 -0.050426 -0.076352        -0.349252   \n",
       "3   2.916933         4.361398   0.676000  0.107717  0.096648        -0.349252   \n",
       "4  -0.304790         0.491064  -1.114302 -0.059704 -0.075183        -0.349252   \n",
       "\n",
       "   FraudResult  TransactionYear  TransactionMonth  TransactionDay  \\\n",
       "0    -0.044962        -0.994246          0.848684       -0.100739   \n",
       "1    -0.044962        -0.994246          0.848684       -0.100739   \n",
       "2    -0.044962        -0.994246          0.848684       -0.100739   \n",
       "3    -0.044962        -0.994246          0.848684       -0.100739   \n",
       "4    -0.044962        -0.994246          0.848684       -0.100739   \n",
       "\n",
       "   TransactionHour  \n",
       "0        -2.155530  \n",
       "1        -2.155530  \n",
       "2        -2.155530  \n",
       "3        -1.949214  \n",
       "4        -1.949214  "
      ]
     },
     "execution_count": 5,
     "metadata": {},
     "output_type": "execute_result"
    }
   ],
   "source": [
    "# reading the store csv file\n",
    "\n",
    "missing_values=[\"n/a\", \"na\", \"undefined\"]\n",
    "df = pd.read_csv(\"../data/data.csv\", na_values=missing_values)\n",
    "            \n",
    "df.head()"
   ]
  },
  {
   "cell_type": "markdown",
   "id": "8c7f306c",
   "metadata": {},
   "source": [
    "# Data preparation"
   ]
  },
  {
   "cell_type": "markdown",
   "id": "01e47605",
   "metadata": {},
   "source": [
    "## Data separation as x and y"
   ]
  },
  {
   "cell_type": "code",
   "execution_count": 6,
   "id": "954a0547",
   "metadata": {},
   "outputs": [],
   "source": [
    "y = df['PricingStrategy']"
   ]
  },
  {
   "cell_type": "code",
   "execution_count": 7,
   "id": "0b981a51",
   "metadata": {},
   "outputs": [],
   "source": [
    "x = df.drop('PricingStrategy', axis=1)"
   ]
  },
  {
   "cell_type": "code",
   "execution_count": 8,
   "id": "fb13604d",
   "metadata": {},
   "outputs": [],
   "source": [
    "y = [int(label) for label in y]"
   ]
  },
  {
   "cell_type": "markdown",
   "id": "c0ad3e4b",
   "metadata": {},
   "source": [
    "## Data splitting"
   ]
  },
  {
   "cell_type": "code",
   "execution_count": 9,
   "id": "dcb44998",
   "metadata": {},
   "outputs": [],
   "source": [
    "X_train, X_test, y_train, y_test = train_test_split(x, y, test_size = 0.2, random_state = 100)"
   ]
  },
  {
   "cell_type": "markdown",
   "id": "c489f464",
   "metadata": {},
   "source": [
    "## Machine learning model"
   ]
  },
  {
   "cell_type": "code",
   "execution_count": 10,
   "id": "e6dee5ff",
   "metadata": {
    "scrolled": true
   },
   "outputs": [],
   "source": [
    "model = svm.SVC(kernel='rbf',C=30,gamma='auto')\n"
   ]
  },
  {
   "cell_type": "code",
   "execution_count": 11,
   "id": "68739426",
   "metadata": {},
   "outputs": [
    {
     "data": {
      "text/html": [
       "<style>#sk-container-id-1 {color: black;background-color: white;}#sk-container-id-1 pre{padding: 0;}#sk-container-id-1 div.sk-toggleable {background-color: white;}#sk-container-id-1 label.sk-toggleable__label {cursor: pointer;display: block;width: 100%;margin-bottom: 0;padding: 0.3em;box-sizing: border-box;text-align: center;}#sk-container-id-1 label.sk-toggleable__label-arrow:before {content: \"▸\";float: left;margin-right: 0.25em;color: #696969;}#sk-container-id-1 label.sk-toggleable__label-arrow:hover:before {color: black;}#sk-container-id-1 div.sk-estimator:hover label.sk-toggleable__label-arrow:before {color: black;}#sk-container-id-1 div.sk-toggleable__content {max-height: 0;max-width: 0;overflow: hidden;text-align: left;background-color: #f0f8ff;}#sk-container-id-1 div.sk-toggleable__content pre {margin: 0.2em;color: black;border-radius: 0.25em;background-color: #f0f8ff;}#sk-container-id-1 input.sk-toggleable__control:checked~div.sk-toggleable__content {max-height: 200px;max-width: 100%;overflow: auto;}#sk-container-id-1 input.sk-toggleable__control:checked~label.sk-toggleable__label-arrow:before {content: \"▾\";}#sk-container-id-1 div.sk-estimator input.sk-toggleable__control:checked~label.sk-toggleable__label {background-color: #d4ebff;}#sk-container-id-1 div.sk-label input.sk-toggleable__control:checked~label.sk-toggleable__label {background-color: #d4ebff;}#sk-container-id-1 input.sk-hidden--visually {border: 0;clip: rect(1px 1px 1px 1px);clip: rect(1px, 1px, 1px, 1px);height: 1px;margin: -1px;overflow: hidden;padding: 0;position: absolute;width: 1px;}#sk-container-id-1 div.sk-estimator {font-family: monospace;background-color: #f0f8ff;border: 1px dotted black;border-radius: 0.25em;box-sizing: border-box;margin-bottom: 0.5em;}#sk-container-id-1 div.sk-estimator:hover {background-color: #d4ebff;}#sk-container-id-1 div.sk-parallel-item::after {content: \"\";width: 100%;border-bottom: 1px solid gray;flex-grow: 1;}#sk-container-id-1 div.sk-label:hover label.sk-toggleable__label {background-color: #d4ebff;}#sk-container-id-1 div.sk-serial::before {content: \"\";position: absolute;border-left: 1px solid gray;box-sizing: border-box;top: 0;bottom: 0;left: 50%;z-index: 0;}#sk-container-id-1 div.sk-serial {display: flex;flex-direction: column;align-items: center;background-color: white;padding-right: 0.2em;padding-left: 0.2em;position: relative;}#sk-container-id-1 div.sk-item {position: relative;z-index: 1;}#sk-container-id-1 div.sk-parallel {display: flex;align-items: stretch;justify-content: center;background-color: white;position: relative;}#sk-container-id-1 div.sk-item::before, #sk-container-id-1 div.sk-parallel-item::before {content: \"\";position: absolute;border-left: 1px solid gray;box-sizing: border-box;top: 0;bottom: 0;left: 50%;z-index: -1;}#sk-container-id-1 div.sk-parallel-item {display: flex;flex-direction: column;z-index: 1;position: relative;background-color: white;}#sk-container-id-1 div.sk-parallel-item:first-child::after {align-self: flex-end;width: 50%;}#sk-container-id-1 div.sk-parallel-item:last-child::after {align-self: flex-start;width: 50%;}#sk-container-id-1 div.sk-parallel-item:only-child::after {width: 0;}#sk-container-id-1 div.sk-dashed-wrapped {border: 1px dashed gray;margin: 0 0.4em 0.5em 0.4em;box-sizing: border-box;padding-bottom: 0.4em;background-color: white;}#sk-container-id-1 div.sk-label label {font-family: monospace;font-weight: bold;display: inline-block;line-height: 1.2em;}#sk-container-id-1 div.sk-label-container {text-align: center;}#sk-container-id-1 div.sk-container {/* jupyter's `normalize.less` sets `[hidden] { display: none; }` but bootstrap.min.css set `[hidden] { display: none !important; }` so we also need the `!important` here to be able to override the default hidden behavior on the sphinx rendered scikit-learn.org. See: https://github.com/scikit-learn/scikit-learn/issues/21755 */display: inline-block !important;position: relative;}#sk-container-id-1 div.sk-text-repr-fallback {display: none;}</style><div id=\"sk-container-id-1\" class=\"sk-top-container\"><div class=\"sk-text-repr-fallback\"><pre>SVC(C=30, gamma=&#x27;auto&#x27;)</pre><b>In a Jupyter environment, please rerun this cell to show the HTML representation or trust the notebook. <br />On GitHub, the HTML representation is unable to render, please try loading this page with nbviewer.org.</b></div><div class=\"sk-container\" hidden><div class=\"sk-item\"><div class=\"sk-estimator sk-toggleable\"><input class=\"sk-toggleable__control sk-hidden--visually\" id=\"sk-estimator-id-1\" type=\"checkbox\" checked><label for=\"sk-estimator-id-1\" class=\"sk-toggleable__label sk-toggleable__label-arrow\">SVC</label><div class=\"sk-toggleable__content\"><pre>SVC(C=30, gamma=&#x27;auto&#x27;)</pre></div></div></div></div></div>"
      ],
      "text/plain": [
       "SVC(C=30, gamma='auto')"
      ]
     },
     "execution_count": 11,
     "metadata": {},
     "output_type": "execute_result"
    }
   ],
   "source": [
    "model.fit(X_train,y_train)\n"
   ]
  },
  {
   "cell_type": "code",
   "execution_count": 12,
   "id": "b778b3f8",
   "metadata": {},
   "outputs": [
    {
     "data": {
      "text/plain": [
       "0.9953483510165683"
      ]
     },
     "execution_count": 12,
     "metadata": {},
     "output_type": "execute_result"
    }
   ],
   "source": [
    "model.score(X_test, y_test)"
   ]
  },
  {
   "cell_type": "code",
   "execution_count": 13,
   "id": "d0d76ae9",
   "metadata": {},
   "outputs": [],
   "source": [
    "Y_pred = model.predict(X_test)"
   ]
  },
  {
   "cell_type": "code",
   "execution_count": 15,
   "id": "c8254ef4",
   "metadata": {
    "scrolled": false
   },
   "outputs": [
    {
     "data": {
      "text/plain": [
       "0.9953483510165683"
      ]
     },
     "execution_count": 15,
     "metadata": {},
     "output_type": "execute_result"
    }
   ],
   "source": [
    "accuracy_score(Y_pred, y_test)"
   ]
  },
  {
   "cell_type": "markdown",
   "id": "6629ca22",
   "metadata": {},
   "source": [
    "## Hyperparameter Tuning"
   ]
  },
  {
   "cell_type": "code",
   "execution_count": 16,
   "id": "85da54b7",
   "metadata": {},
   "outputs": [],
   "source": [
    "from sklearn.model_selection import GridSearchCV\n",
    "\n",
    "max_features_range = np.arange(1,6,1)\n",
    "n_estimators_range = np.arange(10,210,10)\n",
    "param_grid = dict(max_features=max_features_range, n_estimators=n_estimators_range)\n",
    "\n",
    "model = RandomForestClassifier()\n",
    "grid = GridSearchCV(estimator=model, param_grid=param_grid, cv=5)"
   ]
  },
  {
   "cell_type": "code",
   "execution_count": 17,
   "id": "32a95b7b",
   "metadata": {},
   "outputs": [
    {
     "data": {
      "text/plain": [
       "array([ 10,  20,  30,  40,  50,  60,  70,  80,  90, 100, 110, 120, 130,\n",
       "       140, 150, 160, 170, 180, 190, 200])"
      ]
     },
     "execution_count": 17,
     "metadata": {},
     "output_type": "execute_result"
    }
   ],
   "source": [
    "import numpy as np\n",
    "np.arange(10,210,10)"
   ]
  },
  {
   "cell_type": "code",
   "execution_count": null,
   "id": "b5178210",
   "metadata": {},
   "outputs": [],
   "source": [
    "grid.fit(X_train, y_train)"
   ]
  },
  {
   "cell_type": "markdown",
   "id": "8a881d60",
   "metadata": {},
   "source": [
    "## Dataframe of Grid search parameters and their Accuracy scores"
   ]
  },
  {
   "cell_type": "code",
   "execution_count": null,
   "id": "14a2455f",
   "metadata": {},
   "outputs": [],
   "source": [
    "grid_results = pd.contact([pd.DataFrame(grid.cv_results_[\"params\"]),pd.DataFrame(grid.cv_results_[\"mean_test_score\"], columns=)])"
   ]
  },
  {
   "cell_type": "markdown",
   "id": "ffa61516",
   "metadata": {},
   "source": [
    "## Machine learning model"
   ]
  },
  {
   "cell_type": "code",
   "execution_count": 14,
   "id": "c124f42a",
   "metadata": {},
   "outputs": [],
   "source": [
    "from sklearn.ensemble import RandomForestClassifier\n",
    "from sklearn.metrics import accuracy_score\n",
    "\n",
    "rf = RandomForestClassifier(max_features=5, n_estimators=100)"
   ]
  }
 ],
 "metadata": {
  "kernelspec": {
   "display_name": "Python 3 (ipykernel)",
   "language": "python",
   "name": "python3"
  },
  "language_info": {
   "codemirror_mode": {
    "name": "ipython",
    "version": 3
   },
   "file_extension": ".py",
   "mimetype": "text/x-python",
   "name": "python",
   "nbconvert_exporter": "python",
   "pygments_lexer": "ipython3",
   "version": "3.11.7"
  }
 },
 "nbformat": 4,
 "nbformat_minor": 5
}
